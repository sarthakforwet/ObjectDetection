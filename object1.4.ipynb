{
  "nbformat": 4,
  "nbformat_minor": 0,
  "metadata": {
    "colab": {
      "name": "object1.ipynb",
      "provenance": [],
      "collapsed_sections": [],
      "authorship_tag": "ABX9TyPIE9fw/TiBb1JT9lucbZRR",
      "include_colab_link": true
    },
    "kernelspec": {
      "name": "python3",
      "display_name": "Python 3"
    },
    "accelerator": "GPU"
  },
  "cells": [
    {
      "cell_type": "markdown",
      "metadata": {
        "id": "view-in-github",
        "colab_type": "text"
      },
      "source": [
        "<a href=\"https://colab.research.google.com/github/venkatchintha/project1/blob/master/object1.4.ipynb\" target=\"_parent\"><img src=\"https://colab.research.google.com/assets/colab-badge.svg\" alt=\"Open In Colab\"/></a>"
      ]
    },
    {
      "cell_type": "markdown",
      "metadata": {
        "id": "nYGlIhvvtDL6",
        "colab_type": "text"
      },
      "source": [
        "**Mount the drive to google colab using below commands**"
      ]
    },
    {
      "cell_type": "code",
      "metadata": {
        "id": "IbahytFBpC5G",
        "colab_type": "code",
        "colab": {
          "base_uri": "https://localhost:8080/",
          "height": 122
        },
        "outputId": "1ebf0b3f-798d-4b59-fb85-fae5cbda76a7"
      },
      "source": [
        "from google.colab import drive\n",
        "drive.mount('/content/drive')"
      ],
      "execution_count": 20,
      "outputs": [
        {
          "output_type": "stream",
          "text": [
            "Go to this URL in a browser: https://accounts.google.com/o/oauth2/auth?client_id=947318989803-6bn6qk8qdgf4n4g3pfee6491hc0brc4i.apps.googleusercontent.com&redirect_uri=urn%3aietf%3awg%3aoauth%3a2.0%3aoob&response_type=code&scope=email%20https%3a%2f%2fwww.googleapis.com%2fauth%2fdocs.test%20https%3a%2f%2fwww.googleapis.com%2fauth%2fdrive%20https%3a%2f%2fwww.googleapis.com%2fauth%2fdrive.photos.readonly%20https%3a%2f%2fwww.googleapis.com%2fauth%2fpeopleapi.readonly\n",
            "\n",
            "Enter your authorization code:\n",
            "··········\n",
            "Mounted at /content/drive\n"
          ],
          "name": "stdout"
        }
      ]
    },
    {
      "cell_type": "markdown",
      "metadata": {
        "id": "eca3s51TtLUw",
        "colab_type": "text"
      },
      "source": [
        "**Installing kaggle using PIP [ I am downloading dataset from Kaggle]**"
      ]
    },
    {
      "cell_type": "code",
      "metadata": {
        "id": "wIrNrcFnpVj8",
        "colab_type": "code",
        "colab": {}
      },
      "source": [
        "! pip install -q kaggle"
      ],
      "execution_count": 2,
      "outputs": []
    },
    {
      "cell_type": "markdown",
      "metadata": {
        "id": "UrTsd0A4tYGY",
        "colab_type": "text"
      },
      "source": [
        "I dowloaded kaggle API key from  My profile and created Kaggle folder in drive and copied kaggle.jason file to that folder\n",
        "\n",
        "\n",
        "**Run the following code to provide the config path to kaggle.json**"
      ]
    },
    {
      "cell_type": "code",
      "metadata": {
        "id": "_EqAM6xVBn_1",
        "colab_type": "code",
        "colab": {}
      },
      "source": [
        "import os\n",
        "import sys\n",
        "import pandas as pd\n",
        "import cv2\n",
        "import matplotlib.pyplot as plt\n",
        "from matplotlib.patches import Rectangle"
      ],
      "execution_count": 3,
      "outputs": []
    },
    {
      "cell_type": "code",
      "metadata": {
        "id": "gsMqJ6CzpaGx",
        "colab_type": "code",
        "colab": {}
      },
      "source": [
        "\n",
        "\n",
        "os.environ['KAGGLE_CONFIG_DIR'] = \"/content/drive/My Drive/Kaggle\""
      ],
      "execution_count": 4,
      "outputs": []
    },
    {
      "cell_type": "code",
      "metadata": {
        "id": "0jxGnysBpjUh",
        "colab_type": "code",
        "colab": {
          "base_uri": "https://localhost:8080/",
          "height": 34
        },
        "outputId": "20d1c12b-9125-4873-a8f1-63ce6c683154"
      },
      "source": [
        "%cd /content/drive/My Drive/Kaggle"
      ],
      "execution_count": 21,
      "outputs": [
        {
          "output_type": "stream",
          "text": [
            "/content/drive/My Drive/Kaggle\n"
          ],
          "name": "stdout"
        }
      ]
    },
    {
      "cell_type": "markdown",
      "metadata": {
        "id": "f6urGEWzuZKG",
        "colab_type": "text"
      },
      "source": [
        "**Downloadig dataset from Kaggle. we can do this by going to dataset page and copy dataset API key**"
      ]
    },
    {
      "cell_type": "code",
      "metadata": {
        "id": "WSTQ0fG7ptZq",
        "colab_type": "code",
        "colab": {}
      },
      "source": [
        "!kaggle datasets download -d solesensei/nexet-original"
      ],
      "execution_count": null,
      "outputs": []
    },
    {
      "cell_type": "code",
      "metadata": {
        "id": "9r5glo2PrANp",
        "colab_type": "code",
        "colab": {
          "base_uri": "https://localhost:8080/",
          "height": 34
        },
        "outputId": "fa10ae26-fd45-4875-ee48-2426c8d38c0b"
      },
      "source": [
        "!ls\n"
      ],
      "execution_count": 7,
      "outputs": [
        {
          "output_type": "stream",
          "text": [
            "kaggle.json  nexet  nexet_diffs.csv  train_boxes.csv  train.csv\n"
          ],
          "name": "stdout"
        }
      ]
    },
    {
      "cell_type": "markdown",
      "metadata": {
        "id": "ZYmTjuI7ur-8",
        "colab_type": "text"
      },
      "source": [
        "**Unzipping and deleting zipped files**"
      ]
    },
    {
      "cell_type": "code",
      "metadata": {
        "id": "c-MfTZTKrvGS",
        "colab_type": "code",
        "colab": {
          "base_uri": "https://localhost:8080/",
          "height": 68
        },
        "outputId": "904ccd6c-91d0-40ad-ebc7-b6c3ecfbe212"
      },
      "source": [
        "!unzip \\*.zip  && rm *.zip"
      ],
      "execution_count": null,
      "outputs": [
        {
          "output_type": "stream",
          "text": [
            "unzip:  cannot find or open *.zip, *.zip.zip or *.zip.ZIP.\n",
            "\n",
            "No zipfiles found.\n"
          ],
          "name": "stdout"
        }
      ]
    },
    {
      "cell_type": "code",
      "metadata": {
        "id": "Gt5EcTy_vs3G",
        "colab_type": "code",
        "colab": {
          "base_uri": "https://localhost:8080/",
          "height": 34
        },
        "outputId": "5f7036a0-e5c6-4f48-d613-c432b561600b"
      },
      "source": [
        "print(os.listdir('/content/drive/My Drive/Kaggle'))"
      ],
      "execution_count": 8,
      "outputs": [
        {
          "output_type": "stream",
          "text": [
            "['nexet_diffs.csv', 'train_boxes.csv', 'train.csv', 'kaggle.json', 'nexet']\n"
          ],
          "name": "stdout"
        }
      ]
    },
    {
      "cell_type": "markdown",
      "metadata": {
        "id": "Q7mTSnxIzbWn",
        "colab_type": "text"
      },
      "source": [
        "**Analyzing data[ how many rows we have how mancy columns and details**"
      ]
    },
    {
      "cell_type": "code",
      "metadata": {
        "id": "PVj1W8BPxRQH",
        "colab_type": "code",
        "colab": {
          "base_uri": "https://localhost:8080/",
          "height": 204
        },
        "outputId": "3c774b95-38a8-45d4-efe0-2d3f7bdba8a6"
      },
      "source": [
        "\n",
        "df = pd.read_csv('/content/drive/My Drive/Kaggle/nexet_diffs.csv')\n",
        "df.head()\n"
      ],
      "execution_count": 9,
      "outputs": [
        {
          "output_type": "execute_result",
          "data": {
            "text/html": [
              "<div>\n",
              "<style scoped>\n",
              "    .dataframe tbody tr th:only-of-type {\n",
              "        vertical-align: middle;\n",
              "    }\n",
              "\n",
              "    .dataframe tbody tr th {\n",
              "        vertical-align: top;\n",
              "    }\n",
              "\n",
              "    .dataframe thead th {\n",
              "        text-align: right;\n",
              "    }\n",
              "</style>\n",
              "<table border=\"1\" class=\"dataframe\">\n",
              "  <thead>\n",
              "    <tr style=\"text-align: right;\">\n",
              "      <th></th>\n",
              "      <th>image_filename</th>\n",
              "      <th>lighting_was</th>\n",
              "      <th>lighting_now</th>\n",
              "      <th>pixels_light</th>\n",
              "    </tr>\n",
              "  </thead>\n",
              "  <tbody>\n",
              "    <tr>\n",
              "      <th>0</th>\n",
              "      <td>frame_20f328fa-2459-46d0-97a5-5ae2d6103cb0_000...</td>\n",
              "      <td>Twilight</td>\n",
              "      <td>Night</td>\n",
              "      <td>55.0</td>\n",
              "    </tr>\n",
              "    <tr>\n",
              "      <th>1</th>\n",
              "      <td>frame_8d6dbfab-4239-418a-9224-c908a45a8bda_000...</td>\n",
              "      <td>Night</td>\n",
              "      <td>Day</td>\n",
              "      <td>69.0</td>\n",
              "    </tr>\n",
              "    <tr>\n",
              "      <th>2</th>\n",
              "      <td>frame_71b63eef-a833-4ab0-b355-a7a0cef9df68_000...</td>\n",
              "      <td>Night</td>\n",
              "      <td>Twilight</td>\n",
              "      <td>61.0</td>\n",
              "    </tr>\n",
              "    <tr>\n",
              "      <th>3</th>\n",
              "      <td>frame_6e45da96-7d96-4647-99a6-0632617e36c8_000...</td>\n",
              "      <td>Twilight</td>\n",
              "      <td>Day</td>\n",
              "      <td>74.0</td>\n",
              "    </tr>\n",
              "    <tr>\n",
              "      <th>4</th>\n",
              "      <td>frame_480a089c-c4d8-49dd-b653-ae6f819ff342_000...</td>\n",
              "      <td>Twilight</td>\n",
              "      <td>Night</td>\n",
              "      <td>49.0</td>\n",
              "    </tr>\n",
              "  </tbody>\n",
              "</table>\n",
              "</div>"
            ],
            "text/plain": [
              "                                      image_filename  ... pixels_light\n",
              "0  frame_20f328fa-2459-46d0-97a5-5ae2d6103cb0_000...  ...         55.0\n",
              "1  frame_8d6dbfab-4239-418a-9224-c908a45a8bda_000...  ...         69.0\n",
              "2  frame_71b63eef-a833-4ab0-b355-a7a0cef9df68_000...  ...         61.0\n",
              "3  frame_6e45da96-7d96-4647-99a6-0632617e36c8_000...  ...         74.0\n",
              "4  frame_480a089c-c4d8-49dd-b653-ae6f819ff342_000...  ...         49.0\n",
              "\n",
              "[5 rows x 4 columns]"
            ]
          },
          "metadata": {
            "tags": []
          },
          "execution_count": 9
        }
      ]
    },
    {
      "cell_type": "code",
      "metadata": {
        "id": "eDO5Ov8JyGCj",
        "colab_type": "code",
        "colab": {
          "base_uri": "https://localhost:8080/",
          "height": 34
        },
        "outputId": "4adfa8fb-a30b-4162-97cc-2ec757c5918a"
      },
      "source": [
        "df.shape"
      ],
      "execution_count": 10,
      "outputs": [
        {
          "output_type": "execute_result",
          "data": {
            "text/plain": [
              "(7704, 4)"
            ]
          },
          "metadata": {
            "tags": []
          },
          "execution_count": 10
        }
      ]
    },
    {
      "cell_type": "code",
      "metadata": {
        "id": "lWhLURHnyzV3",
        "colab_type": "code",
        "colab": {
          "base_uri": "https://localhost:8080/",
          "height": 204
        },
        "outputId": "4ef35035-03e7-4b5c-987f-7233370c75a7"
      },
      "source": [
        "df1 = pd.read_csv('/content/drive/My Drive/Kaggle/train.csv')\n",
        "df1.head()"
      ],
      "execution_count": 11,
      "outputs": [
        {
          "output_type": "execute_result",
          "data": {
            "text/html": [
              "<div>\n",
              "<style scoped>\n",
              "    .dataframe tbody tr th:only-of-type {\n",
              "        vertical-align: middle;\n",
              "    }\n",
              "\n",
              "    .dataframe tbody tr th {\n",
              "        vertical-align: top;\n",
              "    }\n",
              "\n",
              "    .dataframe thead th {\n",
              "        text-align: right;\n",
              "    }\n",
              "</style>\n",
              "<table border=\"1\" class=\"dataframe\">\n",
              "  <thead>\n",
              "    <tr style=\"text-align: right;\">\n",
              "      <th></th>\n",
              "      <th>image_filename</th>\n",
              "      <th>lighting</th>\n",
              "      <th>city</th>\n",
              "    </tr>\n",
              "  </thead>\n",
              "  <tbody>\n",
              "    <tr>\n",
              "      <th>0</th>\n",
              "      <td>frame_20f328fa-2459-46d0-97a5-5ae2d6103cb0_000...</td>\n",
              "      <td>Twilight</td>\n",
              "      <td>NYC</td>\n",
              "    </tr>\n",
              "    <tr>\n",
              "      <th>1</th>\n",
              "      <td>frame_927bde20-f97f-48c2-af30-f9127b6b32ce_000...</td>\n",
              "      <td>Day</td>\n",
              "      <td>NYC</td>\n",
              "    </tr>\n",
              "    <tr>\n",
              "      <th>2</th>\n",
              "      <td>frame_67012509-f3bd-4175-a9d2-565a7b6bb3c7_000...</td>\n",
              "      <td>Day</td>\n",
              "      <td>NYC</td>\n",
              "    </tr>\n",
              "    <tr>\n",
              "      <th>3</th>\n",
              "      <td>frame_bd043377-6fb8-407a-95e5-7deb1fbab13a_000...</td>\n",
              "      <td>Day</td>\n",
              "      <td>NYC</td>\n",
              "    </tr>\n",
              "    <tr>\n",
              "      <th>4</th>\n",
              "      <td>frame_4da1583b-58d0-4893-8149-54541191031d_000...</td>\n",
              "      <td>Day</td>\n",
              "      <td>NYC</td>\n",
              "    </tr>\n",
              "  </tbody>\n",
              "</table>\n",
              "</div>"
            ],
            "text/plain": [
              "                                      image_filename  lighting city\n",
              "0  frame_20f328fa-2459-46d0-97a5-5ae2d6103cb0_000...  Twilight  NYC\n",
              "1  frame_927bde20-f97f-48c2-af30-f9127b6b32ce_000...       Day  NYC\n",
              "2  frame_67012509-f3bd-4175-a9d2-565a7b6bb3c7_000...       Day  NYC\n",
              "3  frame_bd043377-6fb8-407a-95e5-7deb1fbab13a_000...       Day  NYC\n",
              "4  frame_4da1583b-58d0-4893-8149-54541191031d_000...       Day  NYC"
            ]
          },
          "metadata": {
            "tags": []
          },
          "execution_count": 11
        }
      ]
    },
    {
      "cell_type": "code",
      "metadata": {
        "id": "E9CKQSYRy6aV",
        "colab_type": "code",
        "colab": {
          "base_uri": "https://localhost:8080/",
          "height": 34
        },
        "outputId": "37bbee60-7fb2-4763-f502-5e13647a6060"
      },
      "source": [
        "df1.shape"
      ],
      "execution_count": 12,
      "outputs": [
        {
          "output_type": "execute_result",
          "data": {
            "text/plain": [
              "(50000, 3)"
            ]
          },
          "metadata": {
            "tags": []
          },
          "execution_count": 12
        }
      ]
    },
    {
      "cell_type": "code",
      "metadata": {
        "id": "FrzOdgCvzB1m",
        "colab_type": "code",
        "colab": {
          "base_uri": "https://localhost:8080/",
          "height": 204
        },
        "outputId": "888ee21e-b5f7-4135-e8d5-c3c9086c2a6d"
      },
      "source": [
        "df2 = pd.read_csv('/content/drive/My Drive/Kaggle/train_boxes.csv')\n",
        "df2.head()"
      ],
      "execution_count": 13,
      "outputs": [
        {
          "output_type": "execute_result",
          "data": {
            "text/html": [
              "<div>\n",
              "<style scoped>\n",
              "    .dataframe tbody tr th:only-of-type {\n",
              "        vertical-align: middle;\n",
              "    }\n",
              "\n",
              "    .dataframe tbody tr th {\n",
              "        vertical-align: top;\n",
              "    }\n",
              "\n",
              "    .dataframe thead th {\n",
              "        text-align: right;\n",
              "    }\n",
              "</style>\n",
              "<table border=\"1\" class=\"dataframe\">\n",
              "  <thead>\n",
              "    <tr style=\"text-align: right;\">\n",
              "      <th></th>\n",
              "      <th>image_filename</th>\n",
              "      <th>x0</th>\n",
              "      <th>y0</th>\n",
              "      <th>x1</th>\n",
              "      <th>y1</th>\n",
              "      <th>label</th>\n",
              "      <th>confidence</th>\n",
              "    </tr>\n",
              "  </thead>\n",
              "  <tbody>\n",
              "    <tr>\n",
              "      <th>0</th>\n",
              "      <td>frame_817c47b8-22c4-438a-8dc6-0e3f67f299ee_000...</td>\n",
              "      <td>601.600000</td>\n",
              "      <td>270.355731</td>\n",
              "      <td>726.755556</td>\n",
              "      <td>421.185771</td>\n",
              "      <td>van</td>\n",
              "      <td>1.0</td>\n",
              "    </tr>\n",
              "    <tr>\n",
              "      <th>1</th>\n",
              "      <td>frame_817c47b8-22c4-438a-8dc6-0e3f67f299ee_000...</td>\n",
              "      <td>497.777778</td>\n",
              "      <td>308.774704</td>\n",
              "      <td>534.755556</td>\n",
              "      <td>338.656126</td>\n",
              "      <td>car</td>\n",
              "      <td>1.0</td>\n",
              "    </tr>\n",
              "    <tr>\n",
              "      <th>2</th>\n",
              "      <td>frame_817c47b8-22c4-438a-8dc6-0e3f67f299ee_000...</td>\n",
              "      <td>449.422222</td>\n",
              "      <td>310.197628</td>\n",
              "      <td>509.155556</td>\n",
              "      <td>358.577075</td>\n",
              "      <td>car</td>\n",
              "      <td>1.0</td>\n",
              "    </tr>\n",
              "    <tr>\n",
              "      <th>3</th>\n",
              "      <td>frame_a9110bf2-5252-4ec6-83c6-33b65d0fc04d_000...</td>\n",
              "      <td>711.111111</td>\n",
              "      <td>304.505929</td>\n",
              "      <td>786.488889</td>\n",
              "      <td>368.537549</td>\n",
              "      <td>car</td>\n",
              "      <td>1.0</td>\n",
              "    </tr>\n",
              "    <tr>\n",
              "      <th>4</th>\n",
              "      <td>frame_a9110bf2-5252-4ec6-83c6-33b65d0fc04d_000...</td>\n",
              "      <td>584.533333</td>\n",
              "      <td>307.351779</td>\n",
              "      <td>647.111111</td>\n",
              "      <td>358.577075</td>\n",
              "      <td>car</td>\n",
              "      <td>1.0</td>\n",
              "    </tr>\n",
              "  </tbody>\n",
              "</table>\n",
              "</div>"
            ],
            "text/plain": [
              "                                      image_filename  ...  confidence\n",
              "0  frame_817c47b8-22c4-438a-8dc6-0e3f67f299ee_000...  ...         1.0\n",
              "1  frame_817c47b8-22c4-438a-8dc6-0e3f67f299ee_000...  ...         1.0\n",
              "2  frame_817c47b8-22c4-438a-8dc6-0e3f67f299ee_000...  ...         1.0\n",
              "3  frame_a9110bf2-5252-4ec6-83c6-33b65d0fc04d_000...  ...         1.0\n",
              "4  frame_a9110bf2-5252-4ec6-83c6-33b65d0fc04d_000...  ...         1.0\n",
              "\n",
              "[5 rows x 7 columns]"
            ]
          },
          "metadata": {
            "tags": []
          },
          "execution_count": 13
        }
      ]
    },
    {
      "cell_type": "code",
      "metadata": {
        "id": "O6s3zmL6zKyA",
        "colab_type": "code",
        "colab": {
          "base_uri": "https://localhost:8080/",
          "height": 34
        },
        "outputId": "98567c4e-13bf-4b3f-bb1c-abfca0720f14"
      },
      "source": [
        "df2.shape"
      ],
      "execution_count": 14,
      "outputs": [
        {
          "output_type": "execute_result",
          "data": {
            "text/plain": [
              "(134361, 7)"
            ]
          },
          "metadata": {
            "tags": []
          },
          "execution_count": 14
        }
      ]
    },
    {
      "cell_type": "code",
      "metadata": {
        "id": "_Y071q3Xa_y-",
        "colab_type": "code",
        "colab": {
          "base_uri": "https://localhost:8080/",
          "height": 51
        },
        "outputId": "3530ee37-9ad6-4ca7-a8fc-63b93ec0a6da"
      },
      "source": [
        "!pwd\n",
        "%cd  /content/drive/My Drive/Kaggle/nexet/nexet"
      ],
      "execution_count": 39,
      "outputs": [
        {
          "output_type": "stream",
          "text": [
            "/content/drive/My Drive/Kaggle\n",
            "/content/drive/My Drive/Kaggle/nexet/nexet\n"
          ],
          "name": "stdout"
        }
      ]
    },
    {
      "cell_type": "code",
      "metadata": {
        "id": "EExoFjcC1axz",
        "colab_type": "code",
        "colab": {
          "base_uri": "https://localhost:8080/",
          "height": 153
        },
        "outputId": "0002ffe0-aed5-408d-f4bc-9e038e71642c"
      },
      "source": [
        "! git clone https://github.com/Tessellate-Imaging/Monk_Object_Detection.git"
      ],
      "execution_count": 1,
      "outputs": [
        {
          "output_type": "stream",
          "text": [
            "Cloning into 'Monk_Object_Detection'...\n",
            "remote: Enumerating objects: 145, done.\u001b[K\n",
            "remote: Counting objects: 100% (145/145), done.\u001b[K\n",
            "remote: Compressing objects: 100% (106/106), done.\u001b[K\n",
            "remote: Total 5123 (delta 73), reused 88 (delta 38), pack-reused 4978\u001b[K\n",
            "Receiving objects: 100% (5123/5123), 168.99 MiB | 35.52 MiB/s, done.\n",
            "Resolving deltas: 100% (1503/1503), done.\n",
            "Checking out files: 100% (4721/4721), done.\n"
          ],
          "name": "stdout"
        }
      ]
    },
    {
      "cell_type": "code",
      "metadata": {
        "id": "rNaOPaA4BKaC",
        "colab_type": "code",
        "colab": {
          "base_uri": "https://localhost:8080/",
          "height": 921
        },
        "outputId": "e3bfb50a-5bdb-435f-a260-9a59219198fa"
      },
      "source": [
        "! cd Monk_Object_Detection/1_gluoncv_finetune/installation && cat requirements_colab.txt | xargs -n 1 -L 1 pip install"
      ],
      "execution_count": 2,
      "outputs": [
        {
          "output_type": "stream",
          "text": [
            "Collecting xmltodict\n",
            "  Downloading https://files.pythonhosted.org/packages/28/fd/30d5c1d3ac29ce229f6bdc40bbc20b28f716e8b363140c26eff19122d8a5/xmltodict-0.12.0-py2.py3-none-any.whl\n",
            "Installing collected packages: xmltodict\n",
            "Successfully installed xmltodict-0.12.0\n",
            "Collecting mxnet-cu100\n",
            "\u001b[?25l  Downloading https://files.pythonhosted.org/packages/3d/84/d098e0607ee6207448b6af65315f5d45946b49e4f48160eade6cdd64ce4e/mxnet_cu100-1.5.1.post0-py2.py3-none-manylinux1_x86_64.whl (540.1MB)\n",
            "\u001b[K     |████████████████████████████████| 540.1MB 32kB/s \n",
            "\u001b[?25hCollecting graphviz<0.9.0,>=0.8.1\n",
            "  Downloading https://files.pythonhosted.org/packages/53/39/4ab213673844e0c004bed8a0781a0721a3f6bb23eb8854ee75c236428892/graphviz-0.8.4-py2.py3-none-any.whl\n",
            "Requirement already satisfied: numpy<2.0.0,>1.16.0 in /usr/local/lib/python3.6/dist-packages (from mxnet-cu100) (1.18.5)\n",
            "Requirement already satisfied: requests<3,>=2.20.0 in /usr/local/lib/python3.6/dist-packages (from mxnet-cu100) (2.23.0)\n",
            "Requirement already satisfied: chardet<4,>=3.0.2 in /usr/local/lib/python3.6/dist-packages (from requests<3,>=2.20.0->mxnet-cu100) (3.0.4)\n",
            "Requirement already satisfied: urllib3!=1.25.0,!=1.25.1,<1.26,>=1.21.1 in /usr/local/lib/python3.6/dist-packages (from requests<3,>=2.20.0->mxnet-cu100) (1.24.3)\n",
            "Requirement already satisfied: idna<3,>=2.5 in /usr/local/lib/python3.6/dist-packages (from requests<3,>=2.20.0->mxnet-cu100) (2.10)\n",
            "Requirement already satisfied: certifi>=2017.4.17 in /usr/local/lib/python3.6/dist-packages (from requests<3,>=2.20.0->mxnet-cu100) (2020.6.20)\n",
            "Installing collected packages: graphviz, mxnet-cu100\n",
            "  Found existing installation: graphviz 0.10.1\n",
            "    Uninstalling graphviz-0.10.1:\n",
            "      Successfully uninstalled graphviz-0.10.1\n",
            "Successfully installed graphviz-0.8.4 mxnet-cu100-1.5.1.post0\n",
            "Collecting gluoncv\n",
            "\u001b[?25l  Downloading https://files.pythonhosted.org/packages/fa/81/37a00609cb53da3671adb106b9bc03fb1c029ad5a8db4bc668283e65703d/gluoncv-0.7.0-py2.py3-none-any.whl (752kB)\n",
            "\u001b[K     |████████████████████████████████| 757kB 4.5MB/s \n",
            "\u001b[?25hCollecting portalocker\n",
            "  Downloading https://files.pythonhosted.org/packages/89/a6/3814b7107e0788040870e8825eebf214d72166adf656ba7d4bf14759a06a/portalocker-2.0.0-py2.py3-none-any.whl\n",
            "Requirement already satisfied: numpy in /usr/local/lib/python3.6/dist-packages (from gluoncv) (1.18.5)\n",
            "Requirement already satisfied: matplotlib in /usr/local/lib/python3.6/dist-packages (from gluoncv) (3.2.2)\n",
            "Requirement already satisfied: tqdm in /usr/local/lib/python3.6/dist-packages (from gluoncv) (4.41.1)\n",
            "Requirement already satisfied: requests in /usr/local/lib/python3.6/dist-packages (from gluoncv) (2.23.0)\n",
            "Requirement already satisfied: Pillow in /usr/local/lib/python3.6/dist-packages (from gluoncv) (7.0.0)\n",
            "Requirement already satisfied: scipy in /usr/local/lib/python3.6/dist-packages (from gluoncv) (1.4.1)\n",
            "Requirement already satisfied: kiwisolver>=1.0.1 in /usr/local/lib/python3.6/dist-packages (from matplotlib->gluoncv) (1.2.0)\n",
            "Requirement already satisfied: python-dateutil>=2.1 in /usr/local/lib/python3.6/dist-packages (from matplotlib->gluoncv) (2.8.1)\n",
            "Requirement already satisfied: pyparsing!=2.0.4,!=2.1.2,!=2.1.6,>=2.0.1 in /usr/local/lib/python3.6/dist-packages (from matplotlib->gluoncv) (2.4.7)\n",
            "Requirement already satisfied: cycler>=0.10 in /usr/local/lib/python3.6/dist-packages (from matplotlib->gluoncv) (0.10.0)\n",
            "Requirement already satisfied: certifi>=2017.4.17 in /usr/local/lib/python3.6/dist-packages (from requests->gluoncv) (2020.6.20)\n",
            "Requirement already satisfied: chardet<4,>=3.0.2 in /usr/local/lib/python3.6/dist-packages (from requests->gluoncv) (3.0.4)\n",
            "Requirement already satisfied: urllib3!=1.25.0,!=1.25.1,<1.26,>=1.21.1 in /usr/local/lib/python3.6/dist-packages (from requests->gluoncv) (1.24.3)\n",
            "Requirement already satisfied: idna<3,>=2.5 in /usr/local/lib/python3.6/dist-packages (from requests->gluoncv) (2.10)\n",
            "Requirement already satisfied: six>=1.5 in /usr/local/lib/python3.6/dist-packages (from python-dateutil>=2.1->matplotlib->gluoncv) (1.15.0)\n",
            "Installing collected packages: portalocker, gluoncv\n",
            "Successfully installed gluoncv-0.7.0 portalocker-2.0.0\n",
            "Requirement already satisfied: pycocotools from git+https://github.com/abhi-kumar/cocoapi.git#egg=pycocotools&subdirectory=PythonAPI in /usr/local/lib/python3.6/dist-packages (2.0.1)\n",
            "Requirement already satisfied: cython>=0.27.3 in /usr/local/lib/python3.6/dist-packages (from pycocotools) (0.29.21)\n",
            "Requirement already satisfied: matplotlib>=2.1.0 in /usr/local/lib/python3.6/dist-packages (from pycocotools) (3.2.2)\n",
            "Requirement already satisfied: setuptools>=18.0 in /usr/local/lib/python3.6/dist-packages (from pycocotools) (49.2.0)\n",
            "Requirement already satisfied: python-dateutil>=2.1 in /usr/local/lib/python3.6/dist-packages (from matplotlib>=2.1.0->pycocotools) (2.8.1)\n",
            "Requirement already satisfied: numpy>=1.11 in /usr/local/lib/python3.6/dist-packages (from matplotlib>=2.1.0->pycocotools) (1.18.5)\n",
            "Requirement already satisfied: cycler>=0.10 in /usr/local/lib/python3.6/dist-packages (from matplotlib>=2.1.0->pycocotools) (0.10.0)\n",
            "Requirement already satisfied: pyparsing!=2.0.4,!=2.1.2,!=2.1.6,>=2.0.1 in /usr/local/lib/python3.6/dist-packages (from matplotlib>=2.1.0->pycocotools) (2.4.7)\n",
            "Requirement already satisfied: kiwisolver>=1.0.1 in /usr/local/lib/python3.6/dist-packages (from matplotlib>=2.1.0->pycocotools) (1.2.0)\n",
            "Requirement already satisfied: six>=1.5 in /usr/local/lib/python3.6/dist-packages (from python-dateutil>=2.1->matplotlib>=2.1.0->pycocotools) (1.15.0)\n"
          ],
          "name": "stdout"
        }
      ]
    },
    {
      "cell_type": "code",
      "metadata": {
        "id": "CSDoUftjF9pz",
        "colab_type": "code",
        "colab": {
          "base_uri": "https://localhost:8080/",
          "height": 632
        },
        "outputId": "5935a405-30ac-456b-d8ed-66045da48283"
      },
      "source": [
        "!pip install -U monk-colab"
      ],
      "execution_count": 3,
      "outputs": [
        {
          "output_type": "stream",
          "text": [
            "Collecting monk-colab\n",
            "\u001b[?25l  Downloading https://files.pythonhosted.org/packages/f0/0e/04b6ca6b11ef8742c9c041cf043ae1708d003b61d9a1646efb269e8fb489/monk_colab-0.0.1-py3-none-any.whl (515kB)\n",
            "\r\u001b[K     |▋                               | 10kB 22.4MB/s eta 0:00:01\r\u001b[K     |█▎                              | 20kB 2.9MB/s eta 0:00:01\r\u001b[K     |██                              | 30kB 3.9MB/s eta 0:00:01\r\u001b[K     |██▌                             | 40kB 4.2MB/s eta 0:00:01\r\u001b[K     |███▏                            | 51kB 3.4MB/s eta 0:00:01\r\u001b[K     |███▉                            | 61kB 3.8MB/s eta 0:00:01\r\u001b[K     |████▌                           | 71kB 4.1MB/s eta 0:00:01\r\u001b[K     |█████                           | 81kB 4.4MB/s eta 0:00:01\r\u001b[K     |█████▊                          | 92kB 4.8MB/s eta 0:00:01\r\u001b[K     |██████▍                         | 102kB 4.6MB/s eta 0:00:01\r\u001b[K     |███████                         | 112kB 4.6MB/s eta 0:00:01\r\u001b[K     |███████▋                        | 122kB 4.6MB/s eta 0:00:01\r\u001b[K     |████████▎                       | 133kB 4.6MB/s eta 0:00:01\r\u001b[K     |█████████                       | 143kB 4.6MB/s eta 0:00:01\r\u001b[K     |█████████▌                      | 153kB 4.6MB/s eta 0:00:01\r\u001b[K     |██████████▏                     | 163kB 4.6MB/s eta 0:00:01\r\u001b[K     |██████████▉                     | 174kB 4.6MB/s eta 0:00:01\r\u001b[K     |███████████▌                    | 184kB 4.6MB/s eta 0:00:01\r\u001b[K     |████████████                    | 194kB 4.6MB/s eta 0:00:01\r\u001b[K     |████████████▊                   | 204kB 4.6MB/s eta 0:00:01\r\u001b[K     |█████████████▍                  | 215kB 4.6MB/s eta 0:00:01\r\u001b[K     |██████████████                  | 225kB 4.6MB/s eta 0:00:01\r\u001b[K     |██████████████▋                 | 235kB 4.6MB/s eta 0:00:01\r\u001b[K     |███████████████▎                | 245kB 4.6MB/s eta 0:00:01\r\u001b[K     |████████████████                | 256kB 4.6MB/s eta 0:00:01\r\u001b[K     |████████████████▌               | 266kB 4.6MB/s eta 0:00:01\r\u001b[K     |█████████████████▏              | 276kB 4.6MB/s eta 0:00:01\r\u001b[K     |█████████████████▉              | 286kB 4.6MB/s eta 0:00:01\r\u001b[K     |██████████████████▌             | 296kB 4.6MB/s eta 0:00:01\r\u001b[K     |███████████████████             | 307kB 4.6MB/s eta 0:00:01\r\u001b[K     |███████████████████▊            | 317kB 4.6MB/s eta 0:00:01\r\u001b[K     |████████████████████▍           | 327kB 4.6MB/s eta 0:00:01\r\u001b[K     |█████████████████████           | 337kB 4.6MB/s eta 0:00:01\r\u001b[K     |█████████████████████▋          | 348kB 4.6MB/s eta 0:00:01\r\u001b[K     |██████████████████████▎         | 358kB 4.6MB/s eta 0:00:01\r\u001b[K     |███████████████████████         | 368kB 4.6MB/s eta 0:00:01\r\u001b[K     |███████████████████████▌        | 378kB 4.6MB/s eta 0:00:01\r\u001b[K     |████████████████████████▏       | 389kB 4.6MB/s eta 0:00:01\r\u001b[K     |████████████████████████▉       | 399kB 4.6MB/s eta 0:00:01\r\u001b[K     |█████████████████████████▌      | 409kB 4.6MB/s eta 0:00:01\r\u001b[K     |██████████████████████████      | 419kB 4.6MB/s eta 0:00:01\r\u001b[K     |██████████████████████████▊     | 430kB 4.6MB/s eta 0:00:01\r\u001b[K     |███████████████████████████▍    | 440kB 4.6MB/s eta 0:00:01\r\u001b[K     |████████████████████████████    | 450kB 4.6MB/s eta 0:00:01\r\u001b[K     |████████████████████████████▋   | 460kB 4.6MB/s eta 0:00:01\r\u001b[K     |█████████████████████████████▎  | 471kB 4.6MB/s eta 0:00:01\r\u001b[K     |██████████████████████████████  | 481kB 4.6MB/s eta 0:00:01\r\u001b[K     |██████████████████████████████▌ | 491kB 4.6MB/s eta 0:00:01\r\u001b[K     |███████████████████████████████▏| 501kB 4.6MB/s eta 0:00:01\r\u001b[K     |███████████████████████████████▉| 512kB 4.6MB/s eta 0:00:01\r\u001b[K     |████████████████████████████████| 522kB 4.6MB/s \n",
            "\u001b[?25hRequirement already satisfied, skipping upgrade: gluoncv in /usr/local/lib/python3.6/dist-packages (from monk-colab) (0.7.0)\n",
            "Collecting GPUtil\n",
            "  Downloading https://files.pythonhosted.org/packages/ed/0e/5c61eedde9f6c87713e89d794f01e378cfd9565847d4576fa627d758c554/GPUtil-1.4.0.tar.gz\n",
            "Collecting pylg\n",
            "  Downloading https://files.pythonhosted.org/packages/6c/15/20e454f122d87e4088803be527de8566468608c55645b573f702e11cb63c/PyLg-1.3.3-py3-none-any.whl\n",
            "Collecting mxnet-cu101\n",
            "\u001b[?25l  Downloading https://files.pythonhosted.org/packages/54/b1/7d01abca10eef104296d2b3f0c59a7dda7573126d079c9e2609e6c17993b/mxnet_cu101-1.6.0-py2.py3-none-manylinux1_x86_64.whl (710.5MB)\n",
            "\u001b[K     |████████████████████████████████| 710.5MB 25kB/s \n",
            "\u001b[?25hRequirement already satisfied, skipping upgrade: requests in /usr/local/lib/python3.6/dist-packages (from gluoncv->monk-colab) (2.23.0)\n",
            "Requirement already satisfied, skipping upgrade: matplotlib in /usr/local/lib/python3.6/dist-packages (from gluoncv->monk-colab) (3.2.2)\n",
            "Requirement already satisfied, skipping upgrade: scipy in /usr/local/lib/python3.6/dist-packages (from gluoncv->monk-colab) (1.4.1)\n",
            "Requirement already satisfied, skipping upgrade: tqdm in /usr/local/lib/python3.6/dist-packages (from gluoncv->monk-colab) (4.41.1)\n",
            "Requirement already satisfied, skipping upgrade: Pillow in /usr/local/lib/python3.6/dist-packages (from gluoncv->monk-colab) (7.0.0)\n",
            "Requirement already satisfied, skipping upgrade: portalocker in /usr/local/lib/python3.6/dist-packages (from gluoncv->monk-colab) (2.0.0)\n",
            "Requirement already satisfied, skipping upgrade: numpy in /usr/local/lib/python3.6/dist-packages (from gluoncv->monk-colab) (1.18.5)\n",
            "Requirement already satisfied, skipping upgrade: graphviz<0.9.0,>=0.8.1 in /usr/local/lib/python3.6/dist-packages (from mxnet-cu101->monk-colab) (0.8.4)\n",
            "Requirement already satisfied, skipping upgrade: chardet<4,>=3.0.2 in /usr/local/lib/python3.6/dist-packages (from requests->gluoncv->monk-colab) (3.0.4)\n",
            "Requirement already satisfied, skipping upgrade: certifi>=2017.4.17 in /usr/local/lib/python3.6/dist-packages (from requests->gluoncv->monk-colab) (2020.6.20)\n",
            "Requirement already satisfied, skipping upgrade: urllib3!=1.25.0,!=1.25.1,<1.26,>=1.21.1 in /usr/local/lib/python3.6/dist-packages (from requests->gluoncv->monk-colab) (1.24.3)\n",
            "Requirement already satisfied, skipping upgrade: idna<3,>=2.5 in /usr/local/lib/python3.6/dist-packages (from requests->gluoncv->monk-colab) (2.10)\n",
            "Requirement already satisfied, skipping upgrade: pyparsing!=2.0.4,!=2.1.2,!=2.1.6,>=2.0.1 in /usr/local/lib/python3.6/dist-packages (from matplotlib->gluoncv->monk-colab) (2.4.7)\n",
            "Requirement already satisfied, skipping upgrade: cycler>=0.10 in /usr/local/lib/python3.6/dist-packages (from matplotlib->gluoncv->monk-colab) (0.10.0)\n",
            "Requirement already satisfied, skipping upgrade: python-dateutil>=2.1 in /usr/local/lib/python3.6/dist-packages (from matplotlib->gluoncv->monk-colab) (2.8.1)\n",
            "Requirement already satisfied, skipping upgrade: kiwisolver>=1.0.1 in /usr/local/lib/python3.6/dist-packages (from matplotlib->gluoncv->monk-colab) (1.2.0)\n",
            "Requirement already satisfied, skipping upgrade: six in /usr/local/lib/python3.6/dist-packages (from cycler>=0.10->matplotlib->gluoncv->monk-colab) (1.15.0)\n",
            "Building wheels for collected packages: GPUtil\n",
            "  Building wheel for GPUtil (setup.py) ... \u001b[?25l\u001b[?25hdone\n",
            "  Created wheel for GPUtil: filename=GPUtil-1.4.0-cp36-none-any.whl size=7413 sha256=d2547c1bb305c9e10d6d22927a1d619e7783db5a30b5932ce5904a2b5015664b\n",
            "  Stored in directory: /root/.cache/pip/wheels/3d/77/07/80562de4bb0786e5ea186911a2c831fdd0018bda69beab71fd\n",
            "Successfully built GPUtil\n",
            "Installing collected packages: GPUtil, pylg, mxnet-cu101, monk-colab\n",
            "Successfully installed GPUtil-1.4.0 monk-colab-0.0.1 mxnet-cu101-1.6.0 pylg-1.3.3\n"
          ],
          "name": "stdout"
        }
      ]
    },
    {
      "cell_type": "code",
      "metadata": {
        "id": "lnZ77lwcEcKr",
        "colab_type": "code",
        "colab": {}
      },
      "source": [
        "from monk.gluon_prototype import prototype"
      ],
      "execution_count": 5,
      "outputs": []
    },
    {
      "cell_type": "code",
      "metadata": {
        "id": "RIjsMbRxXt1U",
        "colab_type": "code",
        "colab": {
          "base_uri": "https://localhost:8080/",
          "height": 136
        },
        "outputId": "3acaf796-9f92-4a06-f518-35b875d11fac"
      },
      "source": [
        "gtf = prototype(verbose=1);\n",
        "gtf.Prototype(\"nexet\", \"resnet18_v1\");"
      ],
      "execution_count": 22,
      "outputs": [
        {
          "output_type": "stream",
          "text": [
            "Mxnet Version: 1.6.0\n",
            "\n",
            "Experiment Details\n",
            "    Project: nexet\n",
            "    Experiment: resnet18_v1\n",
            "    Dir: /content/drive/My Drive/Kaggle/workspace/nexet/resnet18_v1/\n",
            "\n"
          ],
          "name": "stdout"
        }
      ]
    },
    {
      "cell_type": "code",
      "metadata": {
        "id": "bCMzqqaqYire",
        "colab_type": "code",
        "colab": {
          "base_uri": "https://localhost:8080/",
          "height": 1000
        },
        "outputId": "0dcc91e8-2f40-497a-d9b8-9884a09633da"
      },
      "source": [
        "gtf.Default(dataset_path=\"/content/drive/My Drive/Kaggle/nexet/nexet/nexet_2017_1\",\n",
        "            path_to_csv=\"/content/drive/My Drive/Kaggle/nexet/nexet/train_boxes.csv\", \n",
        "            model_name=\"resnet18_v1\", \n",
        "            freeze_base_network=True,\n",
        "            num_epochs=2);"
      ],
      "execution_count": 35,
      "outputs": [
        {
          "output_type": "stream",
          "text": [
            "Dataset Details\n",
            "    Train path:     /content/drive/My Drive/Kaggle/nexet/nexet/nexet_2017_1\n",
            "    Val path:       None\n",
            "    CSV train path: /content/drive/My Drive/Kaggle/nexet/nexet/train_boxes.csv\n",
            "    CSV val path:   None\n",
            "    Label Type:     single\n",
            "\n",
            "Dataset Params\n",
            "    Input Size:   224\n",
            "    Batch Size:   4\n",
            "    Data Shuffle: True\n",
            "    Processors:   2\n",
            "    Train-val split:   0.7\n",
            "    Delimiter:   ,\n",
            "\n",
            "Pre-Composed Train Transforms\n",
            "[{'RandomHorizontalFlip': {'p': 0.8}}, {'Normalize': {'mean': [0.485, 0.456, 0.406], 'std': [0.229, 0.224, 0.225]}}, {'RandomHorizontalFlip': {'p': 0.8}}, {'Normalize': {'mean': [0.485, 0.456, 0.406], 'std': [0.229, 0.224, 0.225]}}, {'RandomHorizontalFlip': {'p': 0.8}}, {'Normalize': {'mean': [0.485, 0.456, 0.406], 'std': [0.229, 0.224, 0.225]}}]\n",
            "\n",
            "Pre-Composed Val Transforms\n",
            "[{'RandomHorizontalFlip': {'p': 0.8}}, {'Normalize': {'mean': [0.485, 0.456, 0.406], 'std': [0.229, 0.224, 0.225]}}, {'RandomHorizontalFlip': {'p': 0.8}}, {'Normalize': {'mean': [0.485, 0.456, 0.406], 'std': [0.229, 0.224, 0.225]}}, {'RandomHorizontalFlip': {'p': 0.8}}, {'Normalize': {'mean': [0.485, 0.456, 0.406], 'std': [0.229, 0.224, 0.225]}}]\n",
            "\n",
            "Dataset Numbers\n",
            "    Num train images: 94052\n",
            "    Num val images:   40309\n",
            "    Num classes:      7676\n",
            "\n",
            "Model Params\n",
            "    Model name:           resnet18_v1\n",
            "    Use Gpu:              True\n",
            "    Use pretrained:       True\n",
            "    Freeze base network:  True\n",
            "\n",
            "Model Details\n",
            "    Loading pretrained model\n",
            "    Model Loaded on device\n",
            "        Model name:                           resnet18_v1\n",
            "        Num of potentially trainable layers:  41\n",
            "        Num of actual trainable layers:       1\n",
            "\n",
            "Optimizer\n",
            "    Name:          sgd\n",
            "    Learning rate: 0.01\n",
            "    Params:        {'lr': 0.01, 'momentum': 0, 'weight_decay': 0, 'momentum_dampening_rate': 0, 'clipnorm': 0.0, 'clipvalue': 0.0}\n",
            "\n",
            "\n",
            "\n",
            "Learning rate scheduler\n",
            "    Name:   steplr\n",
            "    Params: {'step_size': 1, 'gamma': 0.98, 'last_epoch': -1}\n",
            "\n",
            "Loss\n",
            "    Name:          softmaxcrossentropy\n",
            "    Params:        {'weight': None, 'batch_axis': 0, 'axis_to_sum_over': -1, 'label_as_categories': True, 'label_smoothing': False}\n",
            "\n",
            "Training params\n",
            "    Num Epochs: 2\n",
            "\n",
            "Display params\n",
            "    Display progress:          True\n",
            "    Display progress realtime: True\n",
            "    Save Training logs:        True\n",
            "    Save Intermediate models:  True\n",
            "    Intermediate model prefix: intermediate_model_\n",
            "\n"
          ],
          "name": "stdout"
        },
        {
          "output_type": "stream",
          "text": [
            "/usr/local/lib/python3.6/dist-packages/monk/system/imports.py:160: UserWarning: ArgumentWarning: clipnorm and clipvalue are active only for keras in current version of Monk\n",
            "  warnings.warn(msg)\n",
            "/usr/local/lib/python3.6/dist-packages/monk/system/imports.py:160: UserWarning: ArgumentWarning: momentum_dampening_rate is active only for pytorch in current version of Monk\n",
            "  warnings.warn(msg)\n"
          ],
          "name": "stderr"
        }
      ]
    },
    {
      "cell_type": "markdown",
      "metadata": {
        "id": "MVxAsjmxWgL6",
        "colab_type": "text"
      },
      "source": [
        "**Analyzing Learning Rates**"
      ]
    },
    {
      "cell_type": "code",
      "metadata": {
        "id": "a4A5juo79ehP",
        "colab_type": "code",
        "colab": {
          "base_uri": "https://localhost:8080/",
          "height": 34
        },
        "outputId": "c96da76d-d9f2-470a-92ac-bff76b7cf575"
      },
      "source": [
        "%cd '/content/Monk_Object_Detection/1_gluoncv_finetune/lib'\n",
        "img_dir = \"/content/drive/My Drive/Kaggle/nexet/nexet/nexet_2017_1\";\n",
        "anno_file = \"/content/drive/My Drive/Kaggle/nexet/nexet/train_boxes.csv\";"
      ],
      "execution_count": 52,
      "outputs": [
        {
          "output_type": "stream",
          "text": [
            "/content/Monk_Object_Detection/1_gluoncv_finetune/lib\n"
          ],
          "name": "stdout"
        }
      ]
    },
    {
      "cell_type": "code",
      "metadata": {
        "id": "jnSq8QRb_eEZ",
        "colab_type": "code",
        "colab": {}
      },
      "source": [
        "from detector_prototype import Detector\n",
        "gtf = Detector();"
      ],
      "execution_count": 53,
      "outputs": []
    },
    {
      "cell_type": "code",
      "metadata": {
        "id": "A7CP2_eFBsF7",
        "colab_type": "code",
        "colab": {
          "base_uri": "https://localhost:8080/",
          "height": 409
        },
        "outputId": "16693cb5-a97c-490b-88ed-51fae9969338"
      },
      "source": [
        "gtf.Dataset(root= '/',img_dir= '/content/drive/My Drive/Kaggle/nexet/nexet/nexet_2017_1', anno_file='/content/drive/My Drive/Kaggle/nexet/nexet/train_boxes.csv\"', batch_size=4);"
      ],
      "execution_count": 61,
      "outputs": [
        {
          "output_type": "error",
          "ename": "FileNotFoundError",
          "evalue": "ignored",
          "traceback": [
            "\u001b[0;31m---------------------------------------------------------------------------\u001b[0m",
            "\u001b[0;31mFileNotFoundError\u001b[0m                         Traceback (most recent call last)",
            "\u001b[0;32m<ipython-input-61-1bda4c1f8586>\u001b[0m in \u001b[0;36m<module>\u001b[0;34m()\u001b[0m\n\u001b[0;32m----> 1\u001b[0;31m \u001b[0mgtf\u001b[0m\u001b[0;34m.\u001b[0m\u001b[0mDataset\u001b[0m\u001b[0;34m(\u001b[0m\u001b[0mroot\u001b[0m\u001b[0;34m=\u001b[0m \u001b[0;34m'/'\u001b[0m\u001b[0;34m,\u001b[0m\u001b[0mimg_dir\u001b[0m\u001b[0;34m=\u001b[0m \u001b[0;34m'/content/drive/My Drive/Kaggle/nexet/nexet/nexet_2017_1'\u001b[0m\u001b[0;34m,\u001b[0m \u001b[0manno_file\u001b[0m\u001b[0;34m=\u001b[0m\u001b[0;34m'/content/drive/My Drive/Kaggle/nexet/nexet/train_boxes.csv\"'\u001b[0m\u001b[0;34m,\u001b[0m \u001b[0mbatch_size\u001b[0m\u001b[0;34m=\u001b[0m\u001b[0;36m4\u001b[0m\u001b[0;34m)\u001b[0m\u001b[0;34m;\u001b[0m\u001b[0;34m\u001b[0m\u001b[0;34m\u001b[0m\u001b[0m\n\u001b[0m",
            "\u001b[0;32m/content/Monk_Object_Detection/1_gluoncv_finetune/lib/detector_prototype.py\u001b[0m in \u001b[0;36mDataset\u001b[0;34m(self, root, img_dir, anno_file, batch_size, num_workers)\u001b[0m\n\u001b[1;32m    102\u001b[0m         \u001b[0mself\u001b[0m\u001b[0;34m.\u001b[0m\u001b[0msystem_dict\u001b[0m\u001b[0;34m[\u001b[0m\u001b[0;34m\"num_workers\"\u001b[0m\u001b[0;34m]\u001b[0m \u001b[0;34m=\u001b[0m \u001b[0mnum_workers\u001b[0m\u001b[0;34m;\u001b[0m\u001b[0;34m\u001b[0m\u001b[0;34m\u001b[0m\u001b[0m\n\u001b[1;32m    103\u001b[0m \u001b[0;34m\u001b[0m\u001b[0m\n\u001b[0;32m--> 104\u001b[0;31m         \u001b[0mdf\u001b[0m \u001b[0;34m=\u001b[0m \u001b[0mpd\u001b[0m\u001b[0;34m.\u001b[0m\u001b[0mread_csv\u001b[0m\u001b[0;34m(\u001b[0m\u001b[0mself\u001b[0m\u001b[0;34m.\u001b[0m\u001b[0msystem_dict\u001b[0m\u001b[0;34m[\u001b[0m\u001b[0;34m\"root\"\u001b[0m\u001b[0;34m]\u001b[0m \u001b[0;34m+\u001b[0m \u001b[0;34m\"/\"\u001b[0m \u001b[0;34m+\u001b[0m \u001b[0mself\u001b[0m\u001b[0;34m.\u001b[0m\u001b[0msystem_dict\u001b[0m\u001b[0;34m[\u001b[0m\u001b[0;34m\"anno_file\"\u001b[0m\u001b[0;34m]\u001b[0m\u001b[0;34m)\u001b[0m\u001b[0;34m;\u001b[0m\u001b[0;34m\u001b[0m\u001b[0;34m\u001b[0m\u001b[0m\n\u001b[0m\u001b[1;32m    105\u001b[0m         \u001b[0mcolumns\u001b[0m \u001b[0;34m=\u001b[0m \u001b[0mdf\u001b[0m\u001b[0;34m.\u001b[0m\u001b[0mcolumns\u001b[0m\u001b[0;34m;\u001b[0m\u001b[0;34m\u001b[0m\u001b[0;34m\u001b[0m\u001b[0m\n\u001b[1;32m    106\u001b[0m \u001b[0;34m\u001b[0m\u001b[0m\n",
            "\u001b[0;32m/usr/local/lib/python3.6/dist-packages/pandas/io/parsers.py\u001b[0m in \u001b[0;36mparser_f\u001b[0;34m(filepath_or_buffer, sep, delimiter, header, names, index_col, usecols, squeeze, prefix, mangle_dupe_cols, dtype, engine, converters, true_values, false_values, skipinitialspace, skiprows, skipfooter, nrows, na_values, keep_default_na, na_filter, verbose, skip_blank_lines, parse_dates, infer_datetime_format, keep_date_col, date_parser, dayfirst, cache_dates, iterator, chunksize, compression, thousands, decimal, lineterminator, quotechar, quoting, doublequote, escapechar, comment, encoding, dialect, error_bad_lines, warn_bad_lines, delim_whitespace, low_memory, memory_map, float_precision)\u001b[0m\n\u001b[1;32m    674\u001b[0m         )\n\u001b[1;32m    675\u001b[0m \u001b[0;34m\u001b[0m\u001b[0m\n\u001b[0;32m--> 676\u001b[0;31m         \u001b[0;32mreturn\u001b[0m \u001b[0m_read\u001b[0m\u001b[0;34m(\u001b[0m\u001b[0mfilepath_or_buffer\u001b[0m\u001b[0;34m,\u001b[0m \u001b[0mkwds\u001b[0m\u001b[0;34m)\u001b[0m\u001b[0;34m\u001b[0m\u001b[0;34m\u001b[0m\u001b[0m\n\u001b[0m\u001b[1;32m    677\u001b[0m \u001b[0;34m\u001b[0m\u001b[0m\n\u001b[1;32m    678\u001b[0m     \u001b[0mparser_f\u001b[0m\u001b[0;34m.\u001b[0m\u001b[0m__name__\u001b[0m \u001b[0;34m=\u001b[0m \u001b[0mname\u001b[0m\u001b[0;34m\u001b[0m\u001b[0;34m\u001b[0m\u001b[0m\n",
            "\u001b[0;32m/usr/local/lib/python3.6/dist-packages/pandas/io/parsers.py\u001b[0m in \u001b[0;36m_read\u001b[0;34m(filepath_or_buffer, kwds)\u001b[0m\n\u001b[1;32m    446\u001b[0m \u001b[0;34m\u001b[0m\u001b[0m\n\u001b[1;32m    447\u001b[0m     \u001b[0;31m# Create the parser.\u001b[0m\u001b[0;34m\u001b[0m\u001b[0;34m\u001b[0m\u001b[0;34m\u001b[0m\u001b[0m\n\u001b[0;32m--> 448\u001b[0;31m     \u001b[0mparser\u001b[0m \u001b[0;34m=\u001b[0m \u001b[0mTextFileReader\u001b[0m\u001b[0;34m(\u001b[0m\u001b[0mfp_or_buf\u001b[0m\u001b[0;34m,\u001b[0m \u001b[0;34m**\u001b[0m\u001b[0mkwds\u001b[0m\u001b[0;34m)\u001b[0m\u001b[0;34m\u001b[0m\u001b[0;34m\u001b[0m\u001b[0m\n\u001b[0m\u001b[1;32m    449\u001b[0m \u001b[0;34m\u001b[0m\u001b[0m\n\u001b[1;32m    450\u001b[0m     \u001b[0;32mif\u001b[0m \u001b[0mchunksize\u001b[0m \u001b[0;32mor\u001b[0m \u001b[0miterator\u001b[0m\u001b[0;34m:\u001b[0m\u001b[0;34m\u001b[0m\u001b[0;34m\u001b[0m\u001b[0m\n",
            "\u001b[0;32m/usr/local/lib/python3.6/dist-packages/pandas/io/parsers.py\u001b[0m in \u001b[0;36m__init__\u001b[0;34m(self, f, engine, **kwds)\u001b[0m\n\u001b[1;32m    878\u001b[0m             \u001b[0mself\u001b[0m\u001b[0;34m.\u001b[0m\u001b[0moptions\u001b[0m\u001b[0;34m[\u001b[0m\u001b[0;34m\"has_index_names\"\u001b[0m\u001b[0;34m]\u001b[0m \u001b[0;34m=\u001b[0m \u001b[0mkwds\u001b[0m\u001b[0;34m[\u001b[0m\u001b[0;34m\"has_index_names\"\u001b[0m\u001b[0;34m]\u001b[0m\u001b[0;34m\u001b[0m\u001b[0;34m\u001b[0m\u001b[0m\n\u001b[1;32m    879\u001b[0m \u001b[0;34m\u001b[0m\u001b[0m\n\u001b[0;32m--> 880\u001b[0;31m         \u001b[0mself\u001b[0m\u001b[0;34m.\u001b[0m\u001b[0m_make_engine\u001b[0m\u001b[0;34m(\u001b[0m\u001b[0mself\u001b[0m\u001b[0;34m.\u001b[0m\u001b[0mengine\u001b[0m\u001b[0;34m)\u001b[0m\u001b[0;34m\u001b[0m\u001b[0;34m\u001b[0m\u001b[0m\n\u001b[0m\u001b[1;32m    881\u001b[0m \u001b[0;34m\u001b[0m\u001b[0m\n\u001b[1;32m    882\u001b[0m     \u001b[0;32mdef\u001b[0m \u001b[0mclose\u001b[0m\u001b[0;34m(\u001b[0m\u001b[0mself\u001b[0m\u001b[0;34m)\u001b[0m\u001b[0;34m:\u001b[0m\u001b[0;34m\u001b[0m\u001b[0;34m\u001b[0m\u001b[0m\n",
            "\u001b[0;32m/usr/local/lib/python3.6/dist-packages/pandas/io/parsers.py\u001b[0m in \u001b[0;36m_make_engine\u001b[0;34m(self, engine)\u001b[0m\n\u001b[1;32m   1112\u001b[0m     \u001b[0;32mdef\u001b[0m \u001b[0m_make_engine\u001b[0m\u001b[0;34m(\u001b[0m\u001b[0mself\u001b[0m\u001b[0;34m,\u001b[0m \u001b[0mengine\u001b[0m\u001b[0;34m=\u001b[0m\u001b[0;34m\"c\"\u001b[0m\u001b[0;34m)\u001b[0m\u001b[0;34m:\u001b[0m\u001b[0;34m\u001b[0m\u001b[0;34m\u001b[0m\u001b[0m\n\u001b[1;32m   1113\u001b[0m         \u001b[0;32mif\u001b[0m \u001b[0mengine\u001b[0m \u001b[0;34m==\u001b[0m \u001b[0;34m\"c\"\u001b[0m\u001b[0;34m:\u001b[0m\u001b[0;34m\u001b[0m\u001b[0;34m\u001b[0m\u001b[0m\n\u001b[0;32m-> 1114\u001b[0;31m             \u001b[0mself\u001b[0m\u001b[0;34m.\u001b[0m\u001b[0m_engine\u001b[0m \u001b[0;34m=\u001b[0m \u001b[0mCParserWrapper\u001b[0m\u001b[0;34m(\u001b[0m\u001b[0mself\u001b[0m\u001b[0;34m.\u001b[0m\u001b[0mf\u001b[0m\u001b[0;34m,\u001b[0m \u001b[0;34m**\u001b[0m\u001b[0mself\u001b[0m\u001b[0;34m.\u001b[0m\u001b[0moptions\u001b[0m\u001b[0;34m)\u001b[0m\u001b[0;34m\u001b[0m\u001b[0;34m\u001b[0m\u001b[0m\n\u001b[0m\u001b[1;32m   1115\u001b[0m         \u001b[0;32melse\u001b[0m\u001b[0;34m:\u001b[0m\u001b[0;34m\u001b[0m\u001b[0;34m\u001b[0m\u001b[0m\n\u001b[1;32m   1116\u001b[0m             \u001b[0;32mif\u001b[0m \u001b[0mengine\u001b[0m \u001b[0;34m==\u001b[0m \u001b[0;34m\"python\"\u001b[0m\u001b[0;34m:\u001b[0m\u001b[0;34m\u001b[0m\u001b[0;34m\u001b[0m\u001b[0m\n",
            "\u001b[0;32m/usr/local/lib/python3.6/dist-packages/pandas/io/parsers.py\u001b[0m in \u001b[0;36m__init__\u001b[0;34m(self, src, **kwds)\u001b[0m\n\u001b[1;32m   1889\u001b[0m         \u001b[0mkwds\u001b[0m\u001b[0;34m[\u001b[0m\u001b[0;34m\"usecols\"\u001b[0m\u001b[0;34m]\u001b[0m \u001b[0;34m=\u001b[0m \u001b[0mself\u001b[0m\u001b[0;34m.\u001b[0m\u001b[0musecols\u001b[0m\u001b[0;34m\u001b[0m\u001b[0;34m\u001b[0m\u001b[0m\n\u001b[1;32m   1890\u001b[0m \u001b[0;34m\u001b[0m\u001b[0m\n\u001b[0;32m-> 1891\u001b[0;31m         \u001b[0mself\u001b[0m\u001b[0;34m.\u001b[0m\u001b[0m_reader\u001b[0m \u001b[0;34m=\u001b[0m \u001b[0mparsers\u001b[0m\u001b[0;34m.\u001b[0m\u001b[0mTextReader\u001b[0m\u001b[0;34m(\u001b[0m\u001b[0msrc\u001b[0m\u001b[0;34m,\u001b[0m \u001b[0;34m**\u001b[0m\u001b[0mkwds\u001b[0m\u001b[0;34m)\u001b[0m\u001b[0;34m\u001b[0m\u001b[0;34m\u001b[0m\u001b[0m\n\u001b[0m\u001b[1;32m   1892\u001b[0m         \u001b[0mself\u001b[0m\u001b[0;34m.\u001b[0m\u001b[0munnamed_cols\u001b[0m \u001b[0;34m=\u001b[0m \u001b[0mself\u001b[0m\u001b[0;34m.\u001b[0m\u001b[0m_reader\u001b[0m\u001b[0;34m.\u001b[0m\u001b[0munnamed_cols\u001b[0m\u001b[0;34m\u001b[0m\u001b[0;34m\u001b[0m\u001b[0m\n\u001b[1;32m   1893\u001b[0m \u001b[0;34m\u001b[0m\u001b[0m\n",
            "\u001b[0;32mpandas/_libs/parsers.pyx\u001b[0m in \u001b[0;36mpandas._libs.parsers.TextReader.__cinit__\u001b[0;34m()\u001b[0m\n",
            "\u001b[0;32mpandas/_libs/parsers.pyx\u001b[0m in \u001b[0;36mpandas._libs.parsers.TextReader._setup_parser_source\u001b[0;34m()\u001b[0m\n",
            "\u001b[0;31mFileNotFoundError\u001b[0m: [Errno 2] File ///content/drive/My Drive/Kaggle/nexet/nexet/train_boxes.csv\" does not exist: '///content/drive/My Drive/Kaggle/nexet/nexet/train_boxes.csv\"'"
          ]
        }
      ]
    }
  ]
}